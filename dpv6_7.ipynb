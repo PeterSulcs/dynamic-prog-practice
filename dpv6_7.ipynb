{
 "cells": [
  {
   "cell_type": "markdown",
   "metadata": {},
   "source": [
    "## Problem 1 (DPV 6.7)\n",
    "\n",
    "A subsequence is _palindromic_ if it is the same whether read left to right or right to left. For instances, the sequence:\n",
    "\n",
    "$A, C, G, T, G, T, C, A, A, A, A, T, C, G$\n",
    "\n",
    "has many palindromic subsequences, including $A, C, G, C, A$ and $A, A, A, A$ ( on ther other hand, subsequence $A, C, T$ is *not* palindromic). Devise an algorithm that takes a sequence $x[1 ... n]$ and returns the (length of the) longest palindromic subsequence. It's running time should be $O(n^2)$"
   ]
  },
  {
   "cell_type": "markdown",
   "metadata": {},
   "source": [
    "### Table Entry"
   ]
  },
  {
   "cell_type": "markdown",
   "metadata": {},
   "source": [
    "$T(i, j) = $ max length palindrome for substring $x_i ... x_j$."
   ]
  },
  {
   "cell_type": "markdown",
   "metadata": {},
   "source": [
    "### State the recurrence"
   ]
  },
  {
   "cell_type": "markdown",
   "metadata": {},
   "source": [
    "$ T(i, j) =  1$ if i == j\n",
    "\n",
    "$ T(i, j) =  2 + T(i+1, j-1)$ if $x_i == x_j, i < j$\n",
    "\n",
    "$ T(i, j) = max\\{T(i+1, j), T(i, j-1), T(i+1, j-1)\\}$ otherwise"
   ]
  },
  {
   "cell_type": "markdown",
   "metadata": {},
   "source": [
    "### Pseudo Code"
   ]
  },
  {
   "cell_type": "code",
   "execution_count": null,
   "metadata": {
    "collapsed": true
   },
   "outputs": [],
   "source": []
  },
  {
   "cell_type": "markdown",
   "metadata": {},
   "source": [
    "### Running Time"
   ]
  },
  {
   "cell_type": "code",
   "execution_count": null,
   "metadata": {
    "collapsed": true
   },
   "outputs": [],
   "source": []
  },
  {
   "cell_type": "markdown",
   "metadata": {},
   "source": [
    "### Real Implementation\n",
    "(optional)"
   ]
  },
  {
   "cell_type": "code",
   "execution_count": null,
   "metadata": {
    "collapsed": true
   },
   "outputs": [],
   "source": []
  }
 ],
 "metadata": {
  "kernelspec": {
   "display_name": "Python 2",
   "language": "python",
   "name": "python2"
  },
  "language_info": {
   "codemirror_mode": {
    "name": "ipython",
    "version": 2
   },
   "file_extension": ".py",
   "mimetype": "text/x-python",
   "name": "python",
   "nbconvert_exporter": "python",
   "pygments_lexer": "ipython2",
   "version": "2.7.15"
  }
 },
 "nbformat": 4,
 "nbformat_minor": 2
}
