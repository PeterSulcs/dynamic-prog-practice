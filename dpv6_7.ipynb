{
 "cells": [
  {
   "cell_type": "markdown",
   "metadata": {},
   "source": [
    "## Problem 1 (DPV 6.7)\n",
    "\n",
    "A subsequence is _palindromic_ if it is the same whether read left to right or right to left. For instances, the sequence:\n",
    "\n",
    "$A, C, G, T, G, T, C, A, A, A, A, T, C, G$\n",
    "\n",
    "has many palindromic subsequences, including $G, T, G$ and $A, A, A, A$ ( on the other hand, subsequence $A, C, G$ is *not* palindromic). Devise an algorithm that takes a sequence $x[1 ... n]$ and returns the (length of the) longest palindromic subsequence. It's running time should be $O(n^2)$"
   ]
  },
  {
   "cell_type": "markdown",
   "metadata": {},
   "source": [
    "### Table Entry"
   ]
  },
  {
   "cell_type": "markdown",
   "metadata": {},
   "source": [
    "$T(i, j) = $ max length palindrome for substring $x_i ... x_j$."
   ]
  },
  {
   "cell_type": "markdown",
   "metadata": {},
   "source": [
    "### State the recurrence"
   ]
  },
  {
   "cell_type": "markdown",
   "metadata": {},
   "source": [
    "$ T(i, j) =  1$ if i == j\n",
    "\n",
    "$ T(i, j) =  2 + T(i+1, j-1)$ if $x_i == x_j, i < j$\n",
    "\n",
    "$ T(i, j) = max\\{T(i+1, j), T(i, j-1), T(i+1, j-1)\\}$ otherwise"
   ]
  },
  {
   "cell_type": "markdown",
   "metadata": {},
   "source": [
    "### Pseudo Code"
   ]
  },
  {
   "cell_type": "code",
   "execution_count": null,
   "metadata": {
    "collapsed": true
   },
   "outputs": [],
   "source": []
  },
  {
   "cell_type": "markdown",
   "metadata": {},
   "source": [
    "### Running Time"
   ]
  },
  {
   "cell_type": "code",
   "execution_count": null,
   "metadata": {
    "collapsed": true
   },
   "outputs": [],
   "source": []
  },
  {
   "cell_type": "markdown",
   "metadata": {},
   "source": [
    "### Real Implementation\n",
    "(optional)"
   ]
  },
  {
   "cell_type": "code",
   "execution_count": 30,
   "metadata": {
    "collapsed": true
   },
   "outputs": [],
   "source": [
    "x = \"ACGTGTCAAAATCG\""
   ]
  },
  {
   "cell_type": "code",
   "execution_count": 31,
   "metadata": {},
   "outputs": [],
   "source": [
    "import numpy as np\n",
    "T = np.zeros([len(x),len(x)],int)"
   ]
  },
  {
   "cell_type": "code",
   "execution_count": 32,
   "metadata": {},
   "outputs": [
    {
     "name": "stdout",
     "output_type": "stream",
     "text": [
      "i: 1, j: 2, s: 1\n",
      "i: 2, j: 3, s: 1\n",
      "i: 3, j: 4, s: 1\n",
      "i: 4, j: 5, s: 1\n",
      "i: 5, j: 6, s: 1\n",
      "i: 6, j: 7, s: 1\n",
      "i: 7, j: 8, s: 1\n",
      "i: 8, j: 9, s: 1\n",
      "i: 9, j: 10, s: 1\n",
      "i: 10, j: 11, s: 1\n",
      "i: 11, j: 12, s: 1\n",
      "i: 12, j: 13, s: 1\n",
      "i: 13, j: 14, s: 1\n",
      "i: 1, j: 3, s: 2\n",
      "i: 2, j: 4, s: 2\n",
      "i: 3, j: 5, s: 2\n",
      "i: 4, j: 6, s: 2\n",
      "i: 5, j: 7, s: 2\n",
      "i: 6, j: 8, s: 2\n",
      "i: 7, j: 9, s: 2\n",
      "i: 8, j: 10, s: 2\n",
      "i: 9, j: 11, s: 2\n",
      "i: 10, j: 12, s: 2\n",
      "i: 11, j: 13, s: 2\n",
      "i: 12, j: 14, s: 2\n",
      "i: 1, j: 4, s: 3\n",
      "i: 2, j: 5, s: 3\n",
      "i: 3, j: 6, s: 3\n",
      "i: 4, j: 7, s: 3\n",
      "i: 5, j: 8, s: 3\n",
      "i: 6, j: 9, s: 3\n",
      "i: 7, j: 10, s: 3\n",
      "i: 8, j: 11, s: 3\n",
      "i: 9, j: 12, s: 3\n",
      "i: 10, j: 13, s: 3\n",
      "i: 11, j: 14, s: 3\n",
      "i: 1, j: 5, s: 4\n",
      "i: 2, j: 6, s: 4\n",
      "i: 3, j: 7, s: 4\n",
      "i: 4, j: 8, s: 4\n",
      "i: 5, j: 9, s: 4\n",
      "i: 6, j: 10, s: 4\n",
      "i: 7, j: 11, s: 4\n",
      "i: 8, j: 12, s: 4\n",
      "i: 9, j: 13, s: 4\n",
      "i: 10, j: 14, s: 4\n",
      "i: 1, j: 6, s: 5\n",
      "i: 2, j: 7, s: 5\n",
      "i: 3, j: 8, s: 5\n",
      "i: 4, j: 9, s: 5\n",
      "i: 5, j: 10, s: 5\n",
      "i: 6, j: 11, s: 5\n",
      "i: 7, j: 12, s: 5\n",
      "i: 8, j: 13, s: 5\n",
      "i: 9, j: 14, s: 5\n",
      "i: 1, j: 7, s: 6\n",
      "i: 2, j: 8, s: 6\n",
      "i: 3, j: 9, s: 6\n",
      "i: 4, j: 10, s: 6\n",
      "i: 5, j: 11, s: 6\n",
      "i: 6, j: 12, s: 6\n",
      "i: 7, j: 13, s: 6\n",
      "i: 8, j: 14, s: 6\n",
      "i: 1, j: 8, s: 7\n",
      "i: 2, j: 9, s: 7\n",
      "i: 3, j: 10, s: 7\n",
      "i: 4, j: 11, s: 7\n",
      "i: 5, j: 12, s: 7\n",
      "i: 6, j: 13, s: 7\n",
      "i: 7, j: 14, s: 7\n",
      "i: 1, j: 9, s: 8\n",
      "i: 2, j: 10, s: 8\n",
      "i: 3, j: 11, s: 8\n",
      "i: 4, j: 12, s: 8\n",
      "i: 5, j: 13, s: 8\n",
      "i: 6, j: 14, s: 8\n",
      "i: 1, j: 10, s: 9\n",
      "i: 2, j: 11, s: 9\n",
      "i: 3, j: 12, s: 9\n",
      "i: 4, j: 13, s: 9\n",
      "i: 5, j: 14, s: 9\n",
      "i: 1, j: 11, s: 10\n",
      "i: 2, j: 12, s: 10\n",
      "i: 3, j: 13, s: 10\n",
      "i: 4, j: 14, s: 10\n",
      "i: 1, j: 12, s: 11\n",
      "i: 2, j: 13, s: 11\n",
      "i: 3, j: 14, s: 11\n",
      "i: 1, j: 13, s: 12\n",
      "i: 2, j: 14, s: 12\n",
      "i: 1, j: 14, s: 13\n"
     ]
    }
   ],
   "source": [
    "n=len(x)\n",
    "for i in range(1,n+1):\n",
    "    i_zero = i - 1\n",
    "    T[i_zero,i_zero]=1\n",
    "for s in range(1,n):  # DPV pg. 171: s = 1 to n-1\n",
    "    for i in range(1, n-s+1):  # i = 1 to n-s\n",
    "        j = i + s\n",
    "        iz = i - 1  # Address that Python is zero indexed\n",
    "        jz = j - 1  # Address that Python is zero indexed\n",
    "        print(f'i: {i}, j: {j}, s: {s}')\n",
    "        if (i<j) and (x[iz]==x[jz]):\n",
    "            T[iz,jz] = 2 + T[iz+1,jz-1]\n",
    "        else:\n",
    "            T[iz,jz] = max([T[iz+1,jz],T[iz,jz-1],T[iz+1, jz-1]])\n",
    "        "
   ]
  },
  {
   "cell_type": "code",
   "execution_count": 33,
   "metadata": {},
   "outputs": [
    {
     "data": {
      "text/plain": [
       "array([[1, 1, 1, 1, 3, 3, 5, 7, 7, 7, 7, 7, 8, 8],\n",
       "       [0, 1, 1, 1, 3, 3, 5, 5, 5, 5, 5, 6, 8, 8],\n",
       "       [0, 0, 1, 1, 3, 3, 3, 3, 3, 3, 4, 6, 6, 8],\n",
       "       [0, 0, 0, 1, 1, 3, 3, 3, 3, 3, 4, 6, 6, 8],\n",
       "       [0, 0, 0, 0, 1, 1, 1, 1, 2, 3, 4, 6, 6, 8],\n",
       "       [0, 0, 0, 0, 0, 1, 1, 1, 2, 3, 4, 6, 6, 6],\n",
       "       [0, 0, 0, 0, 0, 0, 1, 1, 2, 3, 4, 4, 6, 6],\n",
       "       [0, 0, 0, 0, 0, 0, 0, 1, 2, 3, 4, 4, 4, 4],\n",
       "       [0, 0, 0, 0, 0, 0, 0, 0, 1, 2, 3, 3, 3, 3],\n",
       "       [0, 0, 0, 0, 0, 0, 0, 0, 0, 1, 2, 2, 2, 2],\n",
       "       [0, 0, 0, 0, 0, 0, 0, 0, 0, 0, 1, 1, 1, 1],\n",
       "       [0, 0, 0, 0, 0, 0, 0, 0, 0, 0, 0, 1, 1, 1],\n",
       "       [0, 0, 0, 0, 0, 0, 0, 0, 0, 0, 0, 0, 1, 1],\n",
       "       [0, 0, 0, 0, 0, 0, 0, 0, 0, 0, 0, 0, 0, 1]])"
      ]
     },
     "execution_count": 33,
     "metadata": {},
     "output_type": "execute_result"
    }
   ],
   "source": [
    "T"
   ]
  },
  {
   "cell_type": "code",
   "execution_count": 34,
   "metadata": {},
   "outputs": [
    {
     "name": "stdout",
     "output_type": "stream",
     "text": [
      "The answer is T[1,n] = 8\n"
     ]
    }
   ],
   "source": [
    "print(f'The answer is T[1,n] = {T[0,len(x)-1]}')"
   ]
  },
  {
   "cell_type": "code",
   "execution_count": null,
   "metadata": {},
   "outputs": [],
   "source": []
  }
 ],
 "metadata": {
  "kernelspec": {
   "display_name": "Python 3",
   "language": "python",
   "name": "python3"
  },
  "language_info": {
   "codemirror_mode": {
    "name": "ipython",
    "version": 3
   },
   "file_extension": ".py",
   "mimetype": "text/x-python",
   "name": "python",
   "nbconvert_exporter": "python",
   "pygments_lexer": "ipython3",
   "version": "3.6.0"
  }
 },
 "nbformat": 4,
 "nbformat_minor": 2
}
